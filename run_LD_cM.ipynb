{
 "cells": [
  {
   "cell_type": "code",
   "execution_count": 1,
   "metadata": {
    "collapsed": false
   },
   "outputs": [
    {
     "data": {
      "text/html": [
       "<ol class=list-inline>\n",
       "\t<li>'plink.chr-23.ped.LD'</li>\n",
       "\t<li>'README.md'</li>\n",
       "\t<li>'run_LD_cM.ipynb'</li>\n",
       "\t<li>'sheep_chr_cM.txt'</li>\n",
       "\t<li>'SNP.map'</li>\n",
       "</ol>\n"
      ],
      "text/latex": [
       "\\begin{enumerate*}\n",
       "\\item 'plink.chr-23.ped.LD'\n",
       "\\item 'README.md'\n",
       "\\item 'run\\_LD\\_cM.ipynb'\n",
       "\\item 'sheep\\_chr\\_cM.txt'\n",
       "\\item 'SNP.map'\n",
       "\\end{enumerate*}\n"
      ],
      "text/markdown": [
       "1. 'plink.chr-23.ped.LD'\n",
       "2. 'README.md'\n",
       "3. 'run_LD_cM.ipynb'\n",
       "4. 'sheep_chr_cM.txt'\n",
       "5. 'SNP.map'\n",
       "\n",
       "\n"
      ],
      "text/plain": [
       "[1] \"plink.chr-23.ped.LD\" \"README.md\"           \"run_LD_cM.ipynb\"    \n",
       "[4] \"sheep_chr_cM.txt\"    \"SNP.map\"            "
      ]
     },
     "metadata": {},
     "output_type": "display_data"
    }
   ],
   "source": [
    "list.files()"
   ]
  },
  {
   "cell_type": "markdown",
   "metadata": {},
   "source": [
    "input files:\n",
    "plink.chr-23.ped.LD\n",
    "sheep_chr_cM.txt\n",
    "SNP.map"
   ]
  },
  {
   "cell_type": "code",
   "execution_count": 2,
   "metadata": {
    "collapsed": false
   },
   "outputs": [
    {
     "data": {
      "text/html": [
       "<table>\n",
       "<thead><tr><th></th><th scope=col>V1</th><th scope=col>V2</th><th scope=col>V3</th><th scope=col>V4</th><th scope=col>V5</th><th scope=col>V6</th></tr></thead>\n",
       "<tbody>\n",
       "\t<tr><th scope=row>1</th><td>0       </td><td>CR_594.1</td><td>0       </td><td>0       </td><td>1       </td><td>2       </td></tr>\n",
       "\t<tr><th scope=row>2</th><td>0       </td><td>CR_816.1</td><td>0       </td><td>0       </td><td>1       </td><td>2       </td></tr>\n",
       "\t<tr><th scope=row>3</th><td>0          </td><td>CytB_1406.1</td><td>0          </td><td>0          </td><td>1          </td><td>2          </td></tr>\n",
       "\t<tr><th scope=row>4</th><td>0          </td><td>CytB_1505.1</td><td>0          </td><td>0          </td><td>1          </td><td>2          </td></tr>\n",
       "\t<tr><th scope=row>5</th><td>0          </td><td>CytB_1745.1</td><td>0          </td><td>0          </td><td>1          </td><td>2          </td></tr>\n",
       "\t<tr><th scope=row>6</th><td>0             </td><td>DU178199_145.1</td><td>0             </td><td>0             </td><td>0             </td><td>0             </td></tr>\n",
       "</tbody>\n",
       "</table>\n"
      ],
      "text/latex": [
       "\\begin{tabular}{r|llllll}\n",
       "  & V1 & V2 & V3 & V4 & V5 & V6\\\\\n",
       "\\hline\n",
       "\t1 & 0          & CR\\_594.1 & 0          & 0          & 1          & 2         \\\\\n",
       "\t2 & 0          & CR\\_816.1 & 0          & 0          & 1          & 2         \\\\\n",
       "\t3 & 0             & CytB\\_1406.1 & 0             & 0             & 1             & 2            \\\\\n",
       "\t4 & 0             & CytB\\_1505.1 & 0             & 0             & 1             & 2            \\\\\n",
       "\t5 & 0             & CytB\\_1745.1 & 0             & 0             & 1             & 2            \\\\\n",
       "\t6 & 0                & DU178199\\_145.1 & 0                & 0                & 0                & 0               \\\\\n",
       "\\end{tabular}\n"
      ],
      "text/plain": [
       "  V1             V2 V3 V4 V5 V6\n",
       "1  0       CR_594.1  0  0  1  2\n",
       "2  0       CR_816.1  0  0  1  2\n",
       "3  0    CytB_1406.1  0  0  1  2\n",
       "4  0    CytB_1505.1  0  0  1  2\n",
       "5  0    CytB_1745.1  0  0  1  2\n",
       "6  0 DU178199_145.1  0  0  0  0"
      ]
     },
     "metadata": {},
     "output_type": "display_data"
    }
   ],
   "source": [
    "physical_map<-read.table(\"SNP.map\")\n",
    "head(physical_map)"
   ]
  },
  {
   "cell_type": "code",
   "execution_count": 3,
   "metadata": {
    "collapsed": false
   },
   "outputs": [
    {
     "data": {
      "text/html": [
       "<table>\n",
       "<thead><tr><th></th><th scope=col>Mb</th><th scope=col>cM</th><th scope=col>chr</th></tr></thead>\n",
       "<tbody>\n",
       "\t<tr><th scope=row>1</th><td>275.61</td><td>341.10</td><td>  1.00</td></tr>\n",
       "\t<tr><th scope=row>2</th><td>248.99</td><td>308.10</td><td>  2.00</td></tr>\n",
       "\t<tr><th scope=row>3</th><td>224.28</td><td>321.30</td><td>  3.00</td></tr>\n",
       "\t<tr><th scope=row>4</th><td>119.26</td><td>129.00</td><td>  4.00</td></tr>\n",
       "\t<tr><th scope=row>5</th><td>107.9</td><td>152.7</td><td>  5.0</td></tr>\n",
       "\t<tr><th scope=row>6</th><td>117.03</td><td>154.50</td><td>  6.00</td></tr>\n",
       "</tbody>\n",
       "</table>\n"
      ],
      "text/latex": [
       "\\begin{tabular}{r|lll}\n",
       "  & Mb & cM & chr\\\\\n",
       "\\hline\n",
       "\t1 & 275.61 & 341.10 &   1.00\\\\\n",
       "\t2 & 248.99 & 308.10 &   2.00\\\\\n",
       "\t3 & 224.28 & 321.30 &   3.00\\\\\n",
       "\t4 & 119.26 & 129.00 &   4.00\\\\\n",
       "\t5 & 107.9 & 152.7 &   5.0\\\\\n",
       "\t6 & 117.03 & 154.50 &   6.00\\\\\n",
       "\\end{tabular}\n"
      ],
      "text/plain": [
       "      Mb    cM chr\n",
       "1 275.61 341.1   1\n",
       "2 248.99 308.1   2\n",
       "3 224.28 321.3   3\n",
       "4 119.26 129.0   4\n",
       "5 107.90 152.7   5\n",
       "6 117.03 154.5   6"
      ]
     },
     "metadata": {},
     "output_type": "display_data"
    }
   ],
   "source": [
    "linkage_map<-read.table(\"sheep_chr_cM.txt\",header=T)\n",
    "head(linkage_map)"
   ]
  },
  {
   "cell_type": "code",
   "execution_count": 4,
   "metadata": {
    "collapsed": false
   },
   "outputs": [
    {
     "data": {
      "text/html": [
       "<table>\n",
       "<thead><tr><th></th><th scope=col>L1</th><th scope=col>L2</th><th scope=col>D.</th><th scope=col>LOD</th><th scope=col>r.2</th><th scope=col>CIlow</th><th scope=col>CIhi</th><th scope=col>Dist</th><th scope=col>T.int</th></tr></thead>\n",
       "<tbody>\n",
       "\t<tr><th scope=row>1</th><td>OAR18_47474041.1</td><td>OAR23_393569_X.1</td><td>0.138           </td><td>0.42            </td><td>0.019           </td><td>0.01            </td><td>0.3             </td><td>139513          </td><td>2.04            </td></tr>\n",
       "\t<tr><th scope=row>2</th><td>OAR18_47474041.1</td><td>OAR23_429075.1  </td><td>0.176           </td><td>0.54            </td><td>0.021           </td><td>0.02            </td><td>0.36            </td><td>173889          </td><td>-               </td></tr>\n",
       "\t<tr><th scope=row>3</th><td>OAR18_47474041.1</td><td>s33198.1        </td><td>0.271           </td><td>0.07            </td><td>0.006           </td><td>0.02            </td><td>0.77            </td><td>217483          </td><td>-               </td></tr>\n",
       "\t<tr><th scope=row>4</th><td>OAR18_47474041.1</td><td>OAR23_486378.1  </td><td>0.178           </td><td>0.48            </td><td>0.018           </td><td>0.02            </td><td>0.37            </td><td>231118          </td><td>-               </td></tr>\n",
       "\t<tr><th scope=row>5</th><td>OAR18_47474041.1</td><td>s46792.1        </td><td>0.288           </td><td>0.53            </td><td>0.019           </td><td>0.04            </td><td>0.55            </td><td>388829          </td><td>-               </td></tr>\n",
       "\t<tr><th scope=row>6</th><td>OAR18_47474041.1</td><td>s02518.1        </td><td>0.157           </td><td>0.57            </td><td>0.018           </td><td>0.02            </td><td>0.32            </td><td>488769          </td><td>-               </td></tr>\n",
       "</tbody>\n",
       "</table>\n"
      ],
      "text/latex": [
       "\\begin{tabular}{r|lllllllll}\n",
       "  & L1 & L2 & D. & LOD & r.2 & CIlow & CIhi & Dist & T.int\\\\\n",
       "\\hline\n",
       "\t1 & OAR18\\_47474041.1   & OAR23\\_393569\\_X.1 & 0.138                & 0.42                 & 0.019                & 0.01                 & 0.3                  & 139513               & 2.04                \\\\\n",
       "\t2 & OAR18\\_47474041.1 & OAR23\\_429075.1   & 0.176              & 0.54               & 0.021              & 0.02               & 0.36               & 173889             & -                 \\\\\n",
       "\t3 & OAR18\\_47474041.1 & s33198.1           & 0.271              & 0.07               & 0.006              & 0.02               & 0.77               & 217483             & -                 \\\\\n",
       "\t4 & OAR18\\_47474041.1 & OAR23\\_486378.1   & 0.178              & 0.48               & 0.018              & 0.02               & 0.37               & 231118             & -                 \\\\\n",
       "\t5 & OAR18\\_47474041.1 & s46792.1           & 0.288              & 0.53               & 0.019              & 0.04               & 0.55               & 388829             & -                 \\\\\n",
       "\t6 & OAR18\\_47474041.1 & s02518.1           & 0.157              & 0.57               & 0.018              & 0.02               & 0.32               & 488769             & -                 \\\\\n",
       "\\end{tabular}\n"
      ],
      "text/plain": [
       "                L1               L2    D.  LOD   r.2 CIlow CIhi   Dist T.int\n",
       "1 OAR18_47474041.1 OAR23_393569_X.1 0.138 0.42 0.019  0.01 0.30 139513  2.04\n",
       "2 OAR18_47474041.1   OAR23_429075.1 0.176 0.54 0.021  0.02 0.36 173889     -\n",
       "3 OAR18_47474041.1         s33198.1 0.271 0.07 0.006  0.02 0.77 217483     -\n",
       "4 OAR18_47474041.1   OAR23_486378.1 0.178 0.48 0.018  0.02 0.37 231118     -\n",
       "5 OAR18_47474041.1         s46792.1 0.288 0.53 0.019  0.04 0.55 388829     -\n",
       "6 OAR18_47474041.1         s02518.1 0.157 0.57 0.018  0.02 0.32 488769     -"
      ]
     },
     "metadata": {},
     "output_type": "display_data"
    }
   ],
   "source": [
    "input_LD<-read.table(\"plink.chr-23.ped.LD\",header=T)\n",
    "head(input_LD)"
   ]
  },
  {
   "cell_type": "markdown",
   "metadata": {},
   "source": [
    "adjust LD with chromosome size(n)"
   ]
  },
  {
   "cell_type": "code",
   "execution_count": 5,
   "metadata": {
    "collapsed": true
   },
   "outputs": [],
   "source": [
    "n=120"
   ]
  },
  {
   "cell_type": "markdown",
   "metadata": {},
   "source": [
    "add physical position for each SNP(L1 and L2)"
   ]
  },
  {
   "cell_type": "code",
   "execution_count": 6,
   "metadata": {
    "collapsed": false
   },
   "outputs": [
    {
     "data": {
      "text/html": [
       "<ol class=list-inline>\n",
       "\t<li>167385</li>\n",
       "\t<li>167385</li>\n",
       "\t<li>167385</li>\n",
       "\t<li>167385</li>\n",
       "\t<li>167385</li>\n",
       "\t<li>167385</li>\n",
       "</ol>\n"
      ],
      "text/latex": [
       "\\begin{enumerate*}\n",
       "\\item 167385\n",
       "\\item 167385\n",
       "\\item 167385\n",
       "\\item 167385\n",
       "\\item 167385\n",
       "\\item 167385\n",
       "\\end{enumerate*}\n"
      ],
      "text/markdown": [
       "1. 167385\n",
       "2. 167385\n",
       "3. 167385\n",
       "4. 167385\n",
       "5. 167385\n",
       "6. 167385\n",
       "\n",
       "\n"
      ],
      "text/plain": [
       "[1] 167385 167385 167385 167385 167385 167385"
      ]
     },
     "metadata": {},
     "output_type": "display_data"
    }
   ],
   "source": [
    "L1_pos<-physical_map[match(input_LD[,\"L1\"],physical_map[,2]),4]\n",
    "head(L1_pos)"
   ]
  },
  {
   "cell_type": "code",
   "execution_count": 7,
   "metadata": {
    "collapsed": false
   },
   "outputs": [
    {
     "data": {
      "text/html": [
       "<ol class=list-inline>\n",
       "\t<li>306898</li>\n",
       "\t<li>341274</li>\n",
       "\t<li>384868</li>\n",
       "\t<li>398503</li>\n",
       "\t<li>556214</li>\n",
       "\t<li>656154</li>\n",
       "</ol>\n"
      ],
      "text/latex": [
       "\\begin{enumerate*}\n",
       "\\item 306898\n",
       "\\item 341274\n",
       "\\item 384868\n",
       "\\item 398503\n",
       "\\item 556214\n",
       "\\item 656154\n",
       "\\end{enumerate*}\n"
      ],
      "text/markdown": [
       "1. 306898\n",
       "2. 341274\n",
       "3. 384868\n",
       "4. 398503\n",
       "5. 556214\n",
       "6. 656154\n",
       "\n",
       "\n"
      ],
      "text/plain": [
       "[1] 306898 341274 384868 398503 556214 656154"
      ]
     },
     "metadata": {},
     "output_type": "display_data"
    }
   ],
   "source": [
    "L2_pos<-physical_map[match(input_LD[,\"L2\"],physical_map[,2]),4]\n",
    "head(L2_pos)"
   ]
  },
  {
   "cell_type": "code",
   "execution_count": 8,
   "metadata": {
    "collapsed": false
   },
   "outputs": [
    {
     "data": {
      "text/html": [
       "<table>\n",
       "<thead><tr><th></th><th scope=col>L1</th><th scope=col>L2</th><th scope=col>input_LD[, 5] - 1/n</th><th scope=col>L1_pos</th><th scope=col>L2_pos</th><th scope=col>input_LD[, 8]</th></tr></thead>\n",
       "<tbody>\n",
       "\t<tr><th scope=row>1</th><td>OAR18_47474041.1  </td><td>OAR23_393569_X.1  </td><td>0.0106666666666667</td><td>167385            </td><td>306898            </td><td>139513            </td></tr>\n",
       "\t<tr><th scope=row>2</th><td>OAR18_47474041.1  </td><td>OAR23_429075.1    </td><td>0.0126666666666667</td><td>167385            </td><td>341274            </td><td>173889            </td></tr>\n",
       "\t<tr><th scope=row>3</th><td>OAR18_47474041.1    </td><td>s33198.1            </td><td>-0.00233333333333333</td><td>167385              </td><td>384868              </td><td>217483              </td></tr>\n",
       "\t<tr><th scope=row>4</th><td>OAR18_47474041.1   </td><td>OAR23_486378.1     </td><td>0.00966666666666667</td><td>167385             </td><td>398503             </td><td>231118             </td></tr>\n",
       "\t<tr><th scope=row>5</th><td>OAR18_47474041.1  </td><td>s46792.1          </td><td>0.0106666666666667</td><td>167385            </td><td>556214            </td><td>388829            </td></tr>\n",
       "\t<tr><th scope=row>6</th><td>OAR18_47474041.1   </td><td>s02518.1           </td><td>0.00966666666666667</td><td>167385             </td><td>656154             </td><td>488769             </td></tr>\n",
       "</tbody>\n",
       "</table>\n"
      ],
      "text/latex": [
       "\\begin{tabular}{r|llllll}\n",
       "  & L1 & L2 & input\\_LD{[}, 5{]} - 1/n & L1\\_pos & L2\\_pos & input\\_LD{[}, 8{]}\\\\\n",
       "\\hline\n",
       "\t1 & OAR18\\_47474041.1   & OAR23\\_393569\\_X.1 & 0.0106666666666667   & 167385               & 306898               & 139513              \\\\\n",
       "\t2 & OAR18\\_47474041.1 & OAR23\\_429075.1   & 0.0126666666666667 & 167385             & 341274             & 173889            \\\\\n",
       "\t3 & OAR18\\_47474041.1   & s33198.1             & -0.00233333333333333 & 167385               & 384868               & 217483              \\\\\n",
       "\t4 & OAR18\\_47474041.1  & OAR23\\_486378.1    & 0.00966666666666667 & 167385              & 398503              & 231118             \\\\\n",
       "\t5 & OAR18\\_47474041.1 & s46792.1           & 0.0106666666666667 & 167385             & 556214             & 388829            \\\\\n",
       "\t6 & OAR18\\_47474041.1  & s02518.1            & 0.00966666666666667 & 167385              & 656154              & 488769             \\\\\n",
       "\\end{tabular}\n"
      ],
      "text/plain": [
       "                L1               L2 input_LD[, 5] - 1/n L1_pos L2_pos\n",
       "1 OAR18_47474041.1 OAR23_393569_X.1         0.010666667 167385 306898\n",
       "2 OAR18_47474041.1   OAR23_429075.1         0.012666667 167385 341274\n",
       "3 OAR18_47474041.1         s33198.1        -0.002333333 167385 384868\n",
       "4 OAR18_47474041.1   OAR23_486378.1         0.009666667 167385 398503\n",
       "5 OAR18_47474041.1         s46792.1         0.010666667 167385 556214\n",
       "6 OAR18_47474041.1         s02518.1         0.009666667 167385 656154\n",
       "  input_LD[, 8]\n",
       "1        139513\n",
       "2        173889\n",
       "3        217483\n",
       "4        231118\n",
       "5        388829\n",
       "6        488769"
      ]
     },
     "metadata": {},
     "output_type": "display_data"
    }
   ],
   "source": [
    "LD_matrix<-cbind(input_LD[,1:2],input_LD[,5]-1/n,L1_pos,L2_pos,input_LD[,8])\n",
    "head(LD_matrix)\n",
    "#input r2 matrix:LD_matrix\n",
    "#has columns [1]SNP1_name, [2]SNP2_name, [3]r^2(adjusted), [4]SNP1 physical position(bp), [5]SNP2 physical position(bp), [6] Dist(bp)"
   ]
  },
  {
   "cell_type": "markdown",
   "metadata": {},
   "source": [
    "nls model to estimate beta\n"
   ]
  },
  {
   "cell_type": "markdown",
   "metadata": {},
   "source": [
    "$$E(r^2)=\\frac{1}{\\alpha+kN_ec}+\\frac{1}{n}$$\n",
    "\n",
    "$$y_{ij}=1/(\\alpha_{i}+\\beta_{i}d_{ij})+e_{ij}$$\n",
    "\n",
    "$y_{ij}=r^2-1/n$, that is, $r^2$ adjusted for chromosome sample size, for SNP pair $j$ in window \\\\(i\\\\) at physical distance $d_{ij}$.\n",
    "Parameter $\\alpha$ equate to 1 or 2. Paramter $\\beta_{i}$ using least squares. \n",
    "A restriction was imposed that $\\alpha_{i}\\geq 0$."
   ]
  },
  {
   "cell_type": "code",
   "execution_count": 9,
   "metadata": {
    "collapsed": true
   },
   "outputs": [],
   "source": [
    "beta_estimate<-function(LD_dataframe,alpha=1){\n",
    "    df=LD_dataframe[LD_dataframe[,\"r2\"]>=0,]\n",
    "    dist<-df[,\"dist\"]\n",
    "    r2<-df[,\"r2\"]\n",
    "    ls_model<-nls(r2~1/(alpha+beta*dist),start=list(beta=0),control = list(maxiter = 5000))\n",
    "    return(coef(ls_model)['beta'])\n",
    "}"
   ]
  },
  {
   "cell_type": "markdown",
   "metadata": {},
   "source": [
    "LD_dataframe must have columns: r2 and dist, dist in Mb"
   ]
  },
  {
   "cell_type": "code",
   "execution_count": 10,
   "metadata": {
    "collapsed": false
   },
   "outputs": [
    {
     "data": {
      "text/html": [
       "<table>\n",
       "<thead><tr><th></th><th scope=col>L1</th><th scope=col>L2</th><th scope=col>r2</th><th scope=col>L1_pos</th><th scope=col>L2_pos</th><th scope=col>dist</th></tr></thead>\n",
       "<tbody>\n",
       "\t<tr><th scope=row>1</th><td>OAR18_47474041.1  </td><td>OAR23_393569_X.1  </td><td>0.0106666666666667</td><td>167385            </td><td>306898            </td><td>0.139513          </td></tr>\n",
       "\t<tr><th scope=row>2</th><td>OAR18_47474041.1  </td><td>OAR23_429075.1    </td><td>0.0126666666666667</td><td>167385            </td><td>341274            </td><td>0.173889          </td></tr>\n",
       "\t<tr><th scope=row>3</th><td>OAR18_47474041.1    </td><td>s33198.1            </td><td>-0.00233333333333333</td><td>167385              </td><td>384868              </td><td>0.217483            </td></tr>\n",
       "\t<tr><th scope=row>4</th><td>OAR18_47474041.1   </td><td>OAR23_486378.1     </td><td>0.00966666666666667</td><td>167385             </td><td>398503             </td><td>0.231118           </td></tr>\n",
       "\t<tr><th scope=row>5</th><td>OAR18_47474041.1  </td><td>s46792.1          </td><td>0.0106666666666667</td><td>167385            </td><td>556214            </td><td>0.388829          </td></tr>\n",
       "\t<tr><th scope=row>6</th><td>OAR18_47474041.1   </td><td>s02518.1           </td><td>0.00966666666666667</td><td>167385             </td><td>656154             </td><td>0.488769           </td></tr>\n",
       "</tbody>\n",
       "</table>\n"
      ],
      "text/latex": [
       "\\begin{tabular}{r|llllll}\n",
       "  & L1 & L2 & r2 & L1\\_pos & L2\\_pos & dist\\\\\n",
       "\\hline\n",
       "\t1 & OAR18\\_47474041.1   & OAR23\\_393569\\_X.1 & 0.0106666666666667   & 167385               & 306898               & 0.139513            \\\\\n",
       "\t2 & OAR18\\_47474041.1 & OAR23\\_429075.1   & 0.0126666666666667 & 167385             & 341274             & 0.173889          \\\\\n",
       "\t3 & OAR18\\_47474041.1   & s33198.1             & -0.00233333333333333 & 167385               & 384868               & 0.217483            \\\\\n",
       "\t4 & OAR18\\_47474041.1  & OAR23\\_486378.1    & 0.00966666666666667 & 167385              & 398503              & 0.231118           \\\\\n",
       "\t5 & OAR18\\_47474041.1 & s46792.1           & 0.0106666666666667 & 167385             & 556214             & 0.388829          \\\\\n",
       "\t6 & OAR18\\_47474041.1  & s02518.1            & 0.00966666666666667 & 167385              & 656154              & 0.488769           \\\\\n",
       "\\end{tabular}\n"
      ],
      "text/plain": [
       "                L1               L2           r2 L1_pos L2_pos     dist\n",
       "1 OAR18_47474041.1 OAR23_393569_X.1  0.010666667 167385 306898 0.139513\n",
       "2 OAR18_47474041.1   OAR23_429075.1  0.012666667 167385 341274 0.173889\n",
       "3 OAR18_47474041.1         s33198.1 -0.002333333 167385 384868 0.217483\n",
       "4 OAR18_47474041.1   OAR23_486378.1  0.009666667 167385 398503 0.231118\n",
       "5 OAR18_47474041.1         s46792.1  0.010666667 167385 556214 0.388829\n",
       "6 OAR18_47474041.1         s02518.1  0.009666667 167385 656154 0.488769"
      ]
     },
     "metadata": {},
     "output_type": "display_data"
    }
   ],
   "source": [
    "LD_df=LD_matrix\n",
    "LD_df[,6]<-LD_matrix[,6]/1000000\n",
    "\n",
    "colnames(LD_df)<-c(\"L1\",\"L2\",\"r2\",\"L1_pos\",\"L2_pos\",\"dist\")\n",
    "head(LD_df)"
   ]
  },
  {
   "cell_type": "code",
   "execution_count": 11,
   "metadata": {
    "collapsed": false
   },
   "outputs": [
    {
     "data": {
      "text/html": [
       "<strong>beta:</strong> 140.853980854646"
      ],
      "text/latex": [
       "\\textbf{beta:} 140.853980854646"
      ],
      "text/markdown": [
       "**beta:** 140.853980854646"
      ],
      "text/plain": [
       "   beta \n",
       "140.854 "
      ]
     },
     "metadata": {},
     "output_type": "display_data"
    }
   ],
   "source": [
    "entire_chr_beta=beta_estimate(LD_df,alpha=1)\n",
    "entire_chr_beta"
   ]
  },
  {
   "cell_type": "markdown",
   "metadata": {},
   "source": [
    "define a function: calculate_c_for_each_window\n",
    "get estimates of beta and recombination rate for each window size"
   ]
  },
  {
   "cell_type": "code",
   "execution_count": 12,
   "metadata": {
    "collapsed": true
   },
   "outputs": [],
   "source": [
    "calculate_c_for_each_window<-function(LD_matrix,window_size=500000,alpha=1,linkage_map=linkage_map,chr=1){\n",
    "    #chromosome Length\n",
    "    physical_L=max(LD_matrix[,\"L2_pos\"])\n",
    "    #overlap=1/2 * window_size\n",
    "    slides1=seq(0,physical_L,0.5*window_size)\n",
    "    slides2=slides1+window_size\n",
    "    #number of slides\n",
    "    n_slides=length(slides1)\n",
    "    names_rows=paste0(slides1/1000000,\"-\",slides2/1000000)\n",
    "    out=data.frame(matrix(0,ncol=4,nrow=n_slides))\n",
    "    colnames(out)<-c(\"physical_distances\",\"N_SNPpairs\",\"beta\",\"c_estimates\")\n",
    "    out[,1]=names_rows\n",
    "    ##calculate beta of the entire chromosome\n",
    "    global_beta=beta_estimate(LD_matrix,alpha)\n",
    "    ##calculate local beta\n",
    "    for (i in 1:n_slides){\n",
    "        index<-(LD_matrix[,\"L1_pos\"]>slides1[i])&(LD_matrix[,\"L2_pos\"]<slides2[i])\n",
    "        df<-LD_matrix[index,]\n",
    "        n_snppairs=dim(df)[1]\n",
    "        out[i,2]=n_snppairs\n",
    "        if(n_snppairs>=10){ # if number of SNP pairs less than 20, estimates may be not accurate. \n",
    "            beta=beta_estimate(df,alpha)\n",
    "            out[i,3]=beta\n",
    "        }\n",
    "        else{\n",
    "            out[i,3]=global_beta\n",
    "            }\n",
    "    }\n",
    "    x=sum(out[,2]*out[,3]*window_size/1000000)*n_slides/(linkage_map[chr,2]*sum(out[,2]))\n",
    "    out[,4]=out[,3]/x\n",
    "    return(out)\n",
    "    #has columns[1]physical_distances,[2]N_SNPpairs,[3]beta(coordinate with cM),[4]c_estimates(cM)\n",
    "}"
   ]
  },
  {
   "cell_type": "code",
   "execution_count": 13,
   "metadata": {
    "collapsed": false
   },
   "outputs": [
    {
     "data": {
      "text/html": [
       "<table>\n",
       "<thead><tr><th></th><th scope=col>physical_distances</th><th scope=col>N_SNPpairs</th><th scope=col>beta</th><th scope=col>c_estimates</th></tr></thead>\n",
       "<tbody>\n",
       "\t<tr><th scope=row>1</th><td>0-0.5           </td><td>10              </td><td>665.867281646666</td><td>1.59408873506468</td></tr>\n",
       "\t<tr><th scope=row>2</th><td>0.25-0.75       </td><td>28              </td><td>761.020866274   </td><td>1.82188676860126</td></tr>\n",
       "\t<tr><th scope=row>3</th><td>0.5-1            </td><td>28               </td><td>220.608682526856 </td><td>0.528138001921125</td></tr>\n",
       "\t<tr><th scope=row>4</th><td>0.75-1.25       </td><td>15              </td><td>148.576061723577</td><td>0.35569164129543</td></tr>\n",
       "\t<tr><th scope=row>5</th><td>1-1.5           </td><td>21              </td><td>592.228826465675</td><td>1.41779800099934</td></tr>\n",
       "\t<tr><th scope=row>6</th><td>1.25-1.75       </td><td>36              </td><td>1626.34138976595</td><td>3.89346730234904</td></tr>\n",
       "</tbody>\n",
       "</table>\n"
      ],
      "text/latex": [
       "\\begin{tabular}{r|llll}\n",
       "  & physical\\_distances & N\\_SNPpairs & beta & c\\_estimates\\\\\n",
       "\\hline\n",
       "\t1 & 0-0.5            & 10               & 665.867281646666 & 1.59408873506468\\\\\n",
       "\t2 & 0.25-0.75        & 28               & 761.020866274    & 1.82188676860126\\\\\n",
       "\t3 & 0.5-1             & 28                & 220.608682526856  & 0.528138001921125\\\\\n",
       "\t4 & 0.75-1.25        & 15               & 148.576061723577 & 0.35569164129543\\\\\n",
       "\t5 & 1-1.5            & 21               & 592.228826465675 & 1.41779800099934\\\\\n",
       "\t6 & 1.25-1.75        & 36               & 1626.34138976595 & 3.89346730234904\\\\\n",
       "\\end{tabular}\n"
      ],
      "text/plain": [
       "  physical_distances N_SNPpairs      beta c_estimates\n",
       "1              0-0.5         10  665.8673   1.5940887\n",
       "2          0.25-0.75         28  761.0209   1.8218868\n",
       "3              0.5-1         28  220.6087   0.5281380\n",
       "4          0.75-1.25         15  148.5761   0.3556916\n",
       "5              1-1.5         21  592.2288   1.4177980\n",
       "6          1.25-1.75         36 1626.3414   3.8934673"
      ]
     },
     "metadata": {},
     "output_type": "display_data"
    }
   ],
   "source": [
    "out_c<-calculate_c_for_each_window(LD_df,window_size=500000,alpha=1,linkage_map=linkage_map,chr=23)\n",
    "head(out_c)"
   ]
  },
  {
   "cell_type": "code",
   "execution_count": 14,
   "metadata": {
    "collapsed": false
   },
   "outputs": [
    {
     "data": {
      "image/png": "[encoded data removed]",
      "text/plain": [
       "Plot with title “chr23”"
      ]
     },
     "metadata": {
      "image/svg+xml": {
       "isolated": true
      }
     },
     "output_type": "display_data"
    }
   ],
   "source": [
    "recombination_rate_accumulated_map<-function(df=out_c,window_size=500000){\n",
    "    n_window=length(df[,1])+2\n",
    "    physical_dist=seq(from=0,length.out=n_window,by=window_size/2)\n",
    "    accumulated_c<-0\n",
    "\n",
    "    for(i in 2:n_window-1){\n",
    "        accumulated_c[i]<-sum(df[1:i-1,4])/2\n",
    "    }\n",
    "    accumulated_c[n_window]=accumulated_c[n_window-1]+df[n_window-1,4]/2\n",
    "    c_map<-cbind(physical_dist,accumulated_c)\n",
    "    return(c_map)\n",
    "}\n",
    "c_map<-recombination_rate_accumulated_map(out_c)\n",
    "chr=23\n",
    "chr_genetic_L=linkage_map[chr,2]\n",
    "chr_physical_L=linkage_map[chr,1]\n",
    "plot(x=c_map[,1],y=c_map[,2],main=paste0(\"chr\",chr),axes=FALSE,xlab=\"chromosome length(Mb)\",ylab=\"cM\",type=\"l\")\n",
    "y_axis=seq(0,chr_genetic_L,2)\n",
    "axis(2,at=y_axis)\n",
    "x_axis=seq(0,chr_physical_L*1000000,5000000)\n",
    "axis(1,at=x_axis,labels=paste0(x_axis/1000000) )"
   ]
  },
  {
   "cell_type": "code",
   "execution_count": 15,
   "metadata": {
    "collapsed": false
   },
   "outputs": [
    {
     "data": {
      "text/html": [
       "<strong>accumulated_c:</strong> 0.318817747012936"
      ],
      "text/latex": [
       "\\textbf{accumulated\\textbackslash{}\\_c:} 0.318817747012936"
      ],
      "text/markdown": [
       "**accumulated_c:** 0.318817747012936"
      ],
      "text/plain": [
       "accumulated_c \n",
       "    0.3188177 "
      ]
     },
     "metadata": {},
     "output_type": "display_data"
    },
    {
     "data": {
      "text/html": [
       "<table>\n",
       "<thead><tr><th></th><th scope=col>L1</th><th scope=col>L2</th><th scope=col>r2</th><th scope=col>L1_pos</th><th scope=col>L2_pos</th><th scope=col>dist</th></tr></thead>\n",
       "<tbody>\n",
       "\t<tr><th scope=row>1</th><td>OAR18_47474041.1  </td><td>OAR23_393569_X.1  </td><td>0.0106666666666667</td><td>167385            </td><td>306898            </td><td>0.139513          </td></tr>\n",
       "\t<tr><th scope=row>2</th><td>OAR18_47474041.1  </td><td>OAR23_429075.1    </td><td>0.0126666666666667</td><td>167385            </td><td>341274            </td><td>0.173889          </td></tr>\n",
       "\t<tr><th scope=row>3</th><td>OAR18_47474041.1    </td><td>s33198.1            </td><td>-0.00233333333333333</td><td>167385              </td><td>384868              </td><td>0.217483            </td></tr>\n",
       "\t<tr><th scope=row>4</th><td>OAR18_47474041.1   </td><td>OAR23_486378.1     </td><td>0.00966666666666667</td><td>167385             </td><td>398503             </td><td>0.231118           </td></tr>\n",
       "\t<tr><th scope=row>5</th><td>OAR18_47474041.1  </td><td>s46792.1          </td><td>0.0106666666666667</td><td>167385            </td><td>556214            </td><td>0.388829          </td></tr>\n",
       "\t<tr><th scope=row>6</th><td>OAR18_47474041.1   </td><td>s02518.1           </td><td>0.00966666666666667</td><td>167385             </td><td>656154             </td><td>0.488769           </td></tr>\n",
       "</tbody>\n",
       "</table>\n"
      ],
      "text/latex": [
       "\\begin{tabular}{r|llllll}\n",
       "  & L1 & L2 & r2 & L1\\_pos & L2\\_pos & dist\\\\\n",
       "\\hline\n",
       "\t1 & OAR18\\_47474041.1   & OAR23\\_393569\\_X.1 & 0.0106666666666667   & 167385               & 306898               & 0.139513            \\\\\n",
       "\t2 & OAR18\\_47474041.1 & OAR23\\_429075.1   & 0.0126666666666667 & 167385             & 341274             & 0.173889          \\\\\n",
       "\t3 & OAR18\\_47474041.1   & s33198.1             & -0.00233333333333333 & 167385               & 384868               & 0.217483            \\\\\n",
       "\t4 & OAR18\\_47474041.1  & OAR23\\_486378.1    & 0.00966666666666667 & 167385              & 398503              & 0.231118           \\\\\n",
       "\t5 & OAR18\\_47474041.1 & s46792.1           & 0.0106666666666667 & 167385             & 556214             & 0.388829          \\\\\n",
       "\t6 & OAR18\\_47474041.1  & s02518.1            & 0.00966666666666667 & 167385              & 656154              & 0.488769           \\\\\n",
       "\\end{tabular}\n"
      ],
      "text/plain": [
       "                L1               L2           r2 L1_pos L2_pos     dist\n",
       "1 OAR18_47474041.1 OAR23_393569_X.1  0.010666667 167385 306898 0.139513\n",
       "2 OAR18_47474041.1   OAR23_429075.1  0.012666667 167385 341274 0.173889\n",
       "3 OAR18_47474041.1         s33198.1 -0.002333333 167385 384868 0.217483\n",
       "4 OAR18_47474041.1   OAR23_486378.1  0.009666667 167385 398503 0.231118\n",
       "5 OAR18_47474041.1         s46792.1  0.010666667 167385 556214 0.388829\n",
       "6 OAR18_47474041.1         s02518.1  0.009666667 167385 656154 0.488769"
      ]
     },
     "metadata": {},
     "output_type": "display_data"
    }
   ],
   "source": [
    "#calculate SNP position in linkage map(cM)\n",
    "cM_for_each_snp<-function(pos,accumulated_map=c_map,window_size=500000){\n",
    "    index=pos%/%(window_size/2)\n",
    "    res=pos%%(window_size/2)\n",
    "    pos_c<-accumulated_map[index+1,2]+(accumulated_map[index+2,2]-accumulated_map[index+1,2])/(window_size/2)*res\n",
    "    return(pos_c)\n",
    "}\n",
    "cM_for_each_snp(100000,c_map)\n",
    "head(LD_df)"
   ]
  },
  {
   "cell_type": "code",
   "execution_count": 16,
   "metadata": {
    "collapsed": false
   },
   "outputs": [
    {
     "data": {
      "text/html": [
       "<table>\n",
       "<thead><tr><th></th><th scope=col>L1</th><th scope=col>L2</th><th scope=col>r2</th><th scope=col>L1_pos</th><th scope=col>L2_pos</th><th scope=col>dist</th><th scope=col>L1_cM</th><th scope=col>L2_cM</th></tr></thead>\n",
       "<tbody>\n",
       "\t<tr><th scope=row>1</th><td>OAR18_47474041.1   </td><td>OAR23_393569_X.1   </td><td>0.0106666666666667 </td><td>167385             </td><td>306898             </td><td>0.00470714708414486</td><td>0.533653085837604  </td><td>1.00436779425209   </td></tr>\n",
       "\t<tr><th scope=row>2</th><td>OAR18_47474041.1  </td><td>OAR23_429075.1    </td><td>0.0126666666666667</td><td>167385            </td><td>341274            </td><td>0.0059597306752936</td><td>0.533653085837604 </td><td>1.12962615336696  </td></tr>\n",
       "\t<tr><th scope=row>3</th><td>OAR18_47474041.1    </td><td>s33198.1            </td><td>-0.00233333333333333</td><td>167385              </td><td>384868              </td><td>0.00754819731110167 </td><td>0.533653085837604   </td><td>1.28847281694777    </td></tr>\n",
       "\t<tr><th scope=row>4</th><td>OAR18_47474041.1   </td><td>OAR23_486378.1     </td><td>0.00966666666666667</td><td>167385             </td><td>398503             </td><td>0.00804502583289923</td><td>0.533653085837604  </td><td>1.33815566912753   </td></tr>\n",
       "\t<tr><th scope=row>5</th><td>OAR18_47474041.1  </td><td>s46792.1          </td><td>0.0106666666666667</td><td>167385            </td><td>556214            </td><td>0.0123371216527536</td><td>0.533653085837604 </td><td>1.76736525111296  </td></tr>\n",
       "\t<tr><th scope=row>6</th><td>OAR18_47474041.1   </td><td>s02518.1           </td><td>0.00966666666666667</td><td>167385             </td><td>656154             </td><td>0.0133927638909935 </td><td>0.533653085837604  </td><td>1.87292947493695   </td></tr>\n",
       "</tbody>\n",
       "</table>\n"
      ],
      "text/latex": [
       "\\begin{tabular}{r|llllllll}\n",
       "  & L1 & L2 & r2 & L1\\_pos & L2\\_pos & dist & L1\\_cM & L2\\_cM\\\\\n",
       "\\hline\n",
       "\t1 & OAR18\\_47474041.1   & OAR23\\_393569\\_X.1 & 0.0106666666666667   & 167385               & 306898               & 0.00470714708414486  & 0.533653085837604    & 1.00436779425209    \\\\\n",
       "\t2 & OAR18\\_47474041.1 & OAR23\\_429075.1   & 0.0126666666666667 & 167385             & 341274             & 0.0059597306752936 & 0.533653085837604  & 1.12962615336696  \\\\\n",
       "\t3 & OAR18\\_47474041.1   & s33198.1             & -0.00233333333333333 & 167385               & 384868               & 0.00754819731110167  & 0.533653085837604    & 1.28847281694777    \\\\\n",
       "\t4 & OAR18\\_47474041.1  & OAR23\\_486378.1    & 0.00966666666666667 & 167385              & 398503              & 0.00804502583289923 & 0.533653085837604   & 1.33815566912753   \\\\\n",
       "\t5 & OAR18\\_47474041.1 & s46792.1           & 0.0106666666666667 & 167385             & 556214             & 0.0123371216527536 & 0.533653085837604  & 1.76736525111296  \\\\\n",
       "\t6 & OAR18\\_47474041.1  & s02518.1            & 0.00966666666666667 & 167385              & 656154              & 0.0133927638909935  & 0.533653085837604   & 1.87292947493695   \\\\\n",
       "\\end{tabular}\n"
      ],
      "text/plain": [
       "                L1               L2           r2 L1_pos L2_pos        dist\n",
       "1 OAR18_47474041.1 OAR23_393569_X.1  0.010666667 167385 306898 0.004707147\n",
       "2 OAR18_47474041.1   OAR23_429075.1  0.012666667 167385 341274 0.005959731\n",
       "3 OAR18_47474041.1         s33198.1 -0.002333333 167385 384868 0.007548197\n",
       "4 OAR18_47474041.1   OAR23_486378.1  0.009666667 167385 398503 0.008045026\n",
       "5 OAR18_47474041.1         s46792.1  0.010666667 167385 556214 0.012337122\n",
       "6 OAR18_47474041.1         s02518.1  0.009666667 167385 656154 0.013392764\n",
       "      L1_cM    L2_cM\n",
       "1 0.5336531 1.004368\n",
       "2 0.5336531 1.129626\n",
       "3 0.5336531 1.288473\n",
       "4 0.5336531 1.338156\n",
       "5 0.5336531 1.767365\n",
       "6 0.5336531 1.872929"
      ]
     },
     "metadata": {},
     "output_type": "display_data"
    }
   ],
   "source": [
    "calculate_c_for_each_pair<-function(LD_df,accumulated_map=c_map,alpha=1,window_size=500000){\n",
    "    LD_df[,\"L1_cM\"]<-cM_for_each_snp(LD_df[,'L1_pos'],accumulated_map,window_size)\n",
    "    LD_df[,\"L2_cM\"]<-cM_for_each_snp(LD_df[,'L2_pos'],accumulated_map,window_size)\n",
    "    LD_df[,\"dist\"]=(LD_df[,'L2_cM']-LD_df[,\"L1_cM\"])/100\n",
    "    return(LD_df)\n",
    "}\n",
    "LD_c_df<-calculate_c_for_each_pair(LD_df,accumulated_map=c_map,alpha=1,window_size=500000)\n",
    "head(LD_c_df)"
   ]
  },
  {
   "cell_type": "code",
   "execution_count": 17,
   "metadata": {
    "collapsed": false
   },
   "outputs": [
    {
     "data": {
      "text/html": [
       "<strong>beta:</strong> 20228.3104898898"
      ],
      "text/latex": [
       "\\textbf{beta:} 20228.3104898898"
      ],
      "text/markdown": [
       "**beta:** 20228.3104898898"
      ],
      "text/plain": [
       "    beta \n",
       "20228.31 "
      ]
     },
     "metadata": {},
     "output_type": "display_data"
    }
   ],
   "source": [
    "beta=beta_estimate(LD_c_df,alpha=1)\n",
    "beta"
   ]
  },
  {
   "cell_type": "code",
   "execution_count": 18,
   "metadata": {
    "collapsed": false
   },
   "outputs": [
    {
     "data": {
      "text/html": [
       "<strong>beta:</strong> 5057.07762247245"
      ],
      "text/latex": [
       "\\textbf{beta:} 5057.07762247245"
      ],
      "text/markdown": [
       "**beta:** 5057.07762247245"
      ],
      "text/plain": [
       "    beta \n",
       "5057.078 "
      ]
     },
     "metadata": {},
     "output_type": "display_data"
    }
   ],
   "source": [
    "Ne=beta/4\n",
    "Ne"
   ]
  },
  {
   "cell_type": "markdown",
   "metadata": {
    "collapsed": false
   },
   "source": [
    "$\\hat{\\beta}=k\\hat{N_{e}}c$\n",
    "k=4 for autosomes, and k=2 for the X chromosome. In data applications, we observe $r^2$ andm asssuming that we have a good estimate of $c$, $N_{e}$ can be estimated for autosomes and the X chromosome."
   ]
  }
 ],
 "metadata": {
  "anaconda-cloud": {},
  "kernelspec": {
   "display_name": "R",
   "language": "R",
   "name": "ir"
  },
  "language_info": {
   "codemirror_mode": "r",
   "file_extension": ".r",
   "mimetype": "text/x-r-source",
   "name": "R",
   "pygments_lexer": "r",
   "version": "3.3.1"
  }
 },
 "nbformat": 4,
 "nbformat_minor": 0
}
